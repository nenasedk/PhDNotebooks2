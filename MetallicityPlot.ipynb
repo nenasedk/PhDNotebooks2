{
 "cells": [
  {
   "cell_type": "code",
   "execution_count": 1,
   "metadata": {},
   "outputs": [
    {
     "name": "stderr",
     "output_type": "stream",
     "text": [
      "WARNING:param.main: pandas could not register all extension types imports failed with the following error: cannot import name 'ABCIndexClass' from 'pandas.core.dtypes.generic' (/Users/nasedkin/anaconda3/lib/python3.7/site-packages/pandas/core/dtypes/generic.py)\n"
     ]
    },
    {
     "name": "stdout",
     "output_type": "stream",
     "text": [
      "==============\n",
      "species v0.6.0\n",
      "==============\n",
      "Working folder: /Users/nasedkin/Documents/Paper2_HR8799_Notebooks\n",
      "Configuration settings:\n",
      "   - Database: /Users/nasedkin/Documents/Paper2_HR8799_Notebooks/species_database.hdf5\n",
      "   - Data folder: /Users/nasedkin/Documents/Paper2_HR8799_Notebooks/data\n",
      "   - Interpolation method: linear\n",
      "   - Magnitude of Vega: 0.03\n",
      "Using pRT Plotting style!\n"
     ]
    }
   ],
   "source": [
    "import sys,os\n",
    "os.environ['pRT_input_data_path'] = '/Users/nasedkin/python-packages/petitRADTRANS/petitRADTRANS/input_data/'\n",
    "os.environ[\"OMP_NUM_THREADS\"] = \"1\"\n",
    "import numpy as np\n",
    "import matplotlib.pyplot as plt\n",
    "from petitRADTRANS.retrieval import plot_style as ps\n",
    "from astropy.io import fits\n",
    "from glob import glob\n",
    "from spectres import spectres\n",
    "import scicomap as sc\n",
    "qual_map = sc.ScicoSequential(cmap='YlOrRd')\n",
    "feh_cmap = qual_map.get_mpl_color_map()"
   ]
  },
  {
   "cell_type": "code",
   "execution_count": null,
   "metadata": {},
   "outputs": [],
   "source": [
    "planets = {}\n",
    "planets[\"HR8799b\"] = [1.6,0.4,0.1]\n",
    "planets[\"HR8799c\"] = [1.1,0.4,0.1]\n",
    "planets[\"HR8799d\"] = [1.1,0.4,0.1]\n",
    "planets[\"HR8799e\"] = [1.3,0.4,0.1]\n",
    "planets[\"BetaPicb\"] = [0.68,0.08,0.11]\n",
    "planets[\"PDS70b\"] = [0.0,0.1,0.1]\n",
    "planets[\"51\"] = [1.3,0.4,0.1]\n",
    "\n",
    "    \\item Beta Pic b: $0.68^{+0.11}_{-0.08}$. (GRAVITY)\n",
    "    \\item PDS 70 b: 0.0, depending on model choices. (Around stellar) (Wang)\n",
    "    \\item 51 Eri b: $-0.19^{+0.05}_{-0.03}$. (Whiteford)\n",
    "    \\item VHS 1256b: Consistent with 0.0. (Hoch)\n",
    "    \\item HIP 65426 b: Consistent with 0.0 (Petrus)\n",
    "    \\item $\\kappa$ And b: Consistent with solar to slightly subsolar. (Bonnefoy, Wilcomb).\n",
    "    \\item YSES 1 b: Consistent with $0.07^{+0.31}_{-0.18}$ (Zhang)"
   ]
  }
 ],
 "metadata": {
  "kernelspec": {
   "display_name": "base",
   "language": "python",
   "name": "python3"
  },
  "language_info": {
   "codemirror_mode": {
    "name": "ipython",
    "version": 3
   },
   "file_extension": ".py",
   "mimetype": "text/x-python",
   "name": "python",
   "nbconvert_exporter": "python",
   "pygments_lexer": "ipython3",
   "version": "3.7.6"
  },
  "orig_nbformat": 4
 },
 "nbformat": 4,
 "nbformat_minor": 2
}
