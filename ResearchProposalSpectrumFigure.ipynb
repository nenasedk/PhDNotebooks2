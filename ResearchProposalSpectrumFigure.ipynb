{
 "cells": [
  {
   "cell_type": "code",
   "execution_count": 1,
   "metadata": {},
   "outputs": [],
   "source": [
    "import numpy as np\n",
    "import matplotlib.pyplot as plt\n",
    "from matplotlib.lines import Line2D\n",
    "from petitRADTRANS import Radtrans\n",
    "from petitRADTRANS.retrieval import Retrieval, RetrievalConfig\n",
    "from petitRADTRANS.retrieval.models import *\n",
    "from petitRADTRANS.retrieval.chemistry import get_abundances\n",
    "from petitRADTRANS.retrieval.parameter import Parameter\n",
    "import petitRADTRANS.retrieval.cloud_cond as cc\n",
    "from petitRADTRANS.retrieval.util import *\n",
    "\n",
    "import scicomap as sc\n",
    "import pandas as pd\n",
    "import copy as cp\n",
    "from glob import glob\n",
    "import json"
   ]
  },
  {
   "cell_type": "code",
   "execution_count": 3,
   "metadata": {},
   "outputs": [
    {
     "name": "stderr",
     "output_type": "stream",
     "text": [
      "/var/folders/zb/1kks1nb14h7_f6zq97b6sg8xxc6_b4/T/ipykernel_15537/4267690685.py:8: ParserWarning: Length of header or names does not match length of data. This leads to a loss of data with index_col=False.\n",
      "  samples = pd.read_csv(f\"{base_dir}{planet_dir}out_PMN/{retrieval_name}_post_equal_weights.dat\",names=param_names,delim_whitespace=True,index_col=False)\n"
     ]
    }
   ],
   "source": [
    "base_dir = \"/Users/nasedkin/Documents/RetrievalResults/HR8799_2023_Retrievals/\"\n",
    "planet_dir = \"e_full/\"\n",
    "retrieval_name = \"HR8799e_23_v01_diseq_all_eqFeMgCloud_newphot_newSPH_fseds_mrprior\"\n",
    "\n",
    "with open(f\"{base_dir}{planet_dir}out_PMN/{retrieval_name}_params.json\") as paramfile:\n",
    "    param_names = json.load(paramfile)\n",
    "\n",
    "samples = pd.read_csv(f\"{base_dir}{planet_dir}out_PMN/{retrieval_name}_post_equal_weights.dat\",names=param_names,delim_whitespace=True,index_col=False)"
   ]
  },
  {
   "cell_type": "code",
   "execution_count": 6,
   "metadata": {},
   "outputs": [],
   "source": [
    "parameters = {}\n",
    "parameters['D_pl'] = Parameter('D_pl', False, value = 10.0*nc.pc)\n",
    "parameters['mass'] = Parameter('mass',False,value = samples[\"mass\"].median())\n",
    "parameters['R_pl'] = Parameter('R_pl', False, value = samples[\"R_pl\"].median())\n",
    "   \n",
    "parameters['T_int'] = Parameter('T_int', False, value = samples[\"T_int\"].median())\n",
    "parameters['T1'] = Parameter('T1', False, value = samples[\"T1\"].median())\n",
    "parameters['T2'] = Parameter('T2', False, value = samples[\"T2\"].median())\n",
    "parameters['T3'] = Parameter('T3', False, value = samples[\"T3\"].median())\n",
    "parameters['log_delta'] = Parameter('log_delta', False, value = samples[\"log_delta\"].median())\n",
    "parameters['alpha'] = Parameter('alpha', False, value = samples[\"alpha\"].median())\n",
    "\n",
    "parameters['Fe/H'] = Parameter('[Fe/H]', False, value = samples[\"Fe/H\"].median())\n",
    "parameters['C/O'] = Parameter('C/O', False, value = samples[\"C/O\"].median())\n",
    "parameters['log_pquench'] = Parameter('log_pquench', False, value = samples[\"log_pquench\"].median())\n",
    "\n",
    "parameters['sigma_lnorm'] = Parameter('sigma_lnorm', False, value = samples[\"sigma_lnorm\"].median())\n",
    "parameters['fsed_MgSiO3(c)'] = Parameter('fsed_MgSiO3(c)', False, value = samples[\"fsed_MgSiO3(c)\"].median())\n",
    "parameters['fsed_Fe(c)'] = Parameter('fsed_Fe(c)', False, value =  samples[\"fsed_Fe(c)\"].median())\n",
    "parameters['log_kzz'] = Parameter('log_kzz', False, value = samples[\"log_kzz\"].median())\n",
    "\n",
    "#parameters[ 'OSIRIS2011_scale_factor'] =\\\n",
    "#Parameter( 'OSIRIS2011_scale_factor', False, value = samples['OSIRIS2011_scale_factor'].median())\n",
    "\n",
    "parameters['eq_scaling_MgSiO3(c)'] = Parameter('eq_scaling_MgSiO3(c)', False, value = samples[\"eq_scaling_MgSiO3(c)\"].median())\n",
    "#parameters['log_Pbase_MgSiO3(c)'] = Parameter('log_Pbase_MgSiO3(c)', False, value = samples[\"log_Pbase_MgSiO3(c)\"].median())\n",
    "\n",
    "parameters['eq_scaling_Fe(c)'] = Parameter('eq_scaling_Fe(c)', False, value = samples[\"eq_scaling_Fe(c)\"].median())\n",
    "#parameters['log_Pbase_Fe(c)'] = Parameter('log_Pbase_Fe(c)', False, value = samples[\"log_Pbase_Fe(c)\"].median())\n",
    "#print(parameters['log_kzz'].value,parameters['fsed'].value,parameters['sigma_lnorm'].value)"
   ]
  },
  {
   "cell_type": "code",
   "execution_count": null,
   "metadata": {},
   "outputs": [],
   "source": [
    "line_species = ['H2O_Exomol_R_300', \n",
    "                'CO_all_iso_HITEMP_R_300', \n",
    "                'CH4_R_300', \n",
    "                'CO2_R_300', \n",
    "                'HCN_R_300', \n",
    "                'FeH_R_300', \n",
    "                'H2S_R_300', \n",
    "                'NH3_R_300', \n",
    "                'PH3_R_300', \n",
    "                'Na_allard_R_300', \n",
    "                'K_allard_R_300', \n",
    "                'TiO_all_Exomol_R_300', \n",
    "                'VO_R_300',\n",
    "                'SiO_R_300',\n",
    "                'FeH_R_300']\n",
    "\n",
    "rayleigh_species = ['H2', 'He']\n",
    "continuum_opacities = ['H2-H2', 'H2-He']\n",
    "cloud_species = ['MgSiO3(c)_cd', 'Fe(c)_cd']\n",
    "\n",
    "atmosphere = Radtrans(line_species = line_species,\n",
    "                      rayleigh_species= rayleigh_species,\n",
    "                      continuum_opacities = continuum_opacities,\n",
    "                      cloud_species = cloud_species,\n",
    "                      mode='c-k',\n",
    "                      do_scat_emis=True,\n",
    "                      wlen_bords_micron = [0.8,5.2],\n",
    "                      hack_cloud_photospheric_tau = True)\n",
    "pressures = np.logspace(-6,2,100)\n",
    "atmosphere.setup_opa_structure(pressures)"
   ]
  }
 ],
 "metadata": {
  "kernelspec": {
   "display_name": "pRTUpdate",
   "language": "python",
   "name": "python3"
  },
  "language_info": {
   "codemirror_mode": {
    "name": "ipython",
    "version": 3
   },
   "file_extension": ".py",
   "mimetype": "text/x-python",
   "name": "python",
   "nbconvert_exporter": "python",
   "pygments_lexer": "ipython3",
   "version": "3.10.11"
  },
  "orig_nbformat": 4
 },
 "nbformat": 4,
 "nbformat_minor": 2
}
