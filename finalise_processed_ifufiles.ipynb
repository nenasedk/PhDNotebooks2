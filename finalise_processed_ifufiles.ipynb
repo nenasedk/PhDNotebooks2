{
 "cells": [
  {
   "cell_type": "code",
   "execution_count": 1,
   "metadata": {},
   "outputs": [
    {
     "name": "stderr",
     "output_type": "stream",
     "text": [
      "WARNING:param.main: pandas could not register all extension types imports failed with the following error: cannot import name 'ABCIndexClass' from 'pandas.core.dtypes.generic' (/Users/nasedkin/anaconda3/lib/python3.7/site-packages/pandas/core/dtypes/generic.py)\n"
     ]
    },
    {
     "name": "stdout",
     "output_type": "stream",
     "text": [
      "Using pRT Plotting style!\n"
     ]
    }
   ],
   "source": [
    "# Math and IO\n",
    "import numpy as np\n",
    "from scipy.signal import medfilt\n",
    "from astropy.io import fits\n",
    "from glob import glob\n",
    "import os\n",
    "import sys\n",
    "\n",
    "# Plotting\n",
    "import matplotlib.pyplot as plt\n",
    "import petitRADTRANS.retrieval.plot_style\n",
    "\n",
    "# Rebin Spectra\n",
    "from spectres import spectres\n"
   ]
  },
  {
   "cell_type": "code",
   "execution_count": null,
   "metadata": {},
   "outputs": [],
   "source": [
    "def plot_hdu(fig,ax,hdu,flux_scale = 1.0, err_scale = 1.0,color='k',snr=True,count=-1):\n",
    "    spec = hdu['SPECTRUM'].data\n",
    "    flux = spec['FLUX']*flux_scale\n",
    "\n",
    "    err = np.diag(spec['COVARIANCE'])**0.5\n",
    "    corr = spec['CORRELATION']\n",
    "    t_err = np.sqrt(np.diag(spec['COVARIANCE']))*err_scale\n",
    "\n",
    "    if snr:\n",
    "        print(count,np.mean(flux/(t_err)),np.min(flux/(t_err)),np.max(flux/(t_err)))\n",
    "    ax.errorbar(spec['WAVELENGTH'],flux,t_err,c=color,alpha=0.4)\n",
    "    return fig,ax\n",
    "def plot_hdul(fig,ax,hdul,flux_scale=1.0,err_scale = 1.0, snr=True,cmap = 'PuRd_r'):\n",
    "    indices = np.linspace(0.0,0.5,len(hdul))\n",
    "    cmap = plt.get_cmap(cmap)(indices)\n",
    "    if snr:\n",
    "        print(hdul[0][0].header['OBJECT'])\n",
    "    for i,hdu in enumerate(hdul):\n",
    "        plot_hdu(fig,ax,hdu,flux_scale,err_scale,cmap[i],snr,i)\n",
    "        \n",
    "def save_one_fits(hdr, wavelength, spectrum, covariance, correlation, instrument, reduction, obj = \"\", contrast = None, cont_cov = None):\n",
    "    error = np.sqrt(np.dot(covariance,np.ones_like(spectrum)))\n",
    "    wvs = fits.open(\"wavelength.fits\")[0].data\n",
    "    primary_hdu = fits.PrimaryHDU([])\n",
    "    primary_hdu.header = hdr\n",
    "    primary_hdu.header['OBJECT'] = obj\n",
    "    primary_hdu.header['SNR'] = np.mean(spectrum/error)\n",
    "    c1 = fits.Column(name = \"WAVELENGTH\", array = wavelength, format = 'D',unit = \"micron\")\n",
    "    c2 = fits.Column(name = \"FLUX\", array = spectrum, format = 'D',unit = \"W/m2/micron\")\n",
    "    c3 = fits.Column(name = \"COVARIANCE\", array = covariance, format = str(covariance.shape[0])+'D',unit = \"[W/m2/micron]^2\")\n",
    "    c4 = fits.Column(name = \"ERROR\", array = error, format ='D',unit = \"[W/m2/micron]\")\n",
    "    c5 = fits.Column(name = \"CORRELATION\", array = correlation, format =  str(correlation.shape[0])+'D',unit = \" - \")\n",
    "    columns = [c1,c2,c3,c4,c5]\n",
    "    if contrast is not None:\n",
    "        c6 = fits.Column(name = \"CONTRAST\", array = contrast, format = 'D',unit = \" - \")\n",
    "        c7 = fits.Column(name = \"COVARIANCE_CONTRAST\", array = cont_cov, format = str(cont_cov.shape[0])+'D',unit = \" - ^2\")\n",
    "        columns.extend([c6,c7])\n",
    "    table_hdu = fits.BinTableHDU.from_columns(columns,name = 'SPECTRUM')\n",
    "    hdul = fits.HDUList([primary_hdu,table_hdu])\n",
    "\n",
    "    outstring = data_dir + obj + \"_\" + instrument + \"_\" + reduction\n",
    "    outstring += \"_spectrum.fits\"\n",
    "    #print(outstring)\n",
    "    hdul.writeto(outstring,overwrite=True,checksum=True,output_verify='exception')\n",
    "    return\n",
    "\n",
    "def save_to_fits_final(hdul, ind, instrument, reduction, obj = \"\", scaleflux=1.0, scalerr=1.0):\n",
    "    spec = hdul[ind]['SPECTRUM'].data\n",
    "    wvs = spec['WAVELENGTH']\n",
    "    flux = spec['FLUX'] * scaleflux\n",
    "    covar = spec['COVARIANCE']*scalerr\n",
    "    corr = spec['CORRELATION']\n",
    "    cont = None\n",
    "    cont_cov = None\n",
    "    try:\n",
    "        cont = spec[\"CONTRAST\"]\n",
    "        cont_cov = spec[\"COVARIANCE_CONTRAST\"]\n",
    "    except:\n",
    "        pass\n",
    "    save_one_fits(hdul[ind][0].header,wvs,flux,covar,corr, instrument, reduction, obj, cont, cont_cov)\n"
   ]
  }
 ],
 "metadata": {
  "kernelspec": {
   "display_name": "base",
   "language": "python",
   "name": "python3"
  },
  "language_info": {
   "codemirror_mode": {
    "name": "ipython",
    "version": 3
   },
   "file_extension": ".py",
   "mimetype": "text/x-python",
   "name": "python",
   "nbconvert_exporter": "python",
   "pygments_lexer": "ipython3",
   "version": "3.7.6"
  },
  "orig_nbformat": 4
 },
 "nbformat": 4,
 "nbformat_minor": 2
}
