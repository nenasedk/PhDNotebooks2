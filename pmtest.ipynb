{
 "cells": [
  {
   "cell_type": "code",
   "execution_count": 7,
   "metadata": {},
   "outputs": [
    {
     "name": "stdout",
     "output_type": "stream",
     "text": [
      "Hello World\n"
     ]
    }
   ],
   "source": [
    "import json\n",
    "import pymultinest\n",
    "import os\n",
    "os.environ[\"OMP_NUM_THREADS\"] = \"1\"\n",
    "\n",
    "import numpy as np\n",
    "\n",
    "def make_data(x, slope, slope2, yintersect, err):\n",
    "    return slope*x + slope2*x**2. + yintersect + np.random.normal(0, err, size = len(x))\n",
    "\n",
    "def model(x, slope, slope2, yintersect):\n",
    "    return slope*x + slope2*x**2. + yintersect\n",
    "\n",
    "def prior(cube, ndim, nparam):\n",
    "    mp = np.zeros_like(cube)\n",
    "    mp[0] = -10 + 20*cube[0]\n",
    "    mp[1] = -10 + 20*cube[1]\n",
    "    mp[2] = -10 + 20*cube[2]\n",
    "    return mp\n",
    "\n",
    "def loglike(cube, ndim, nparam):\n",
    "\n",
    "    slope = cube[0]\n",
    "    slope2 = cube[1]\n",
    "    yintersect = cube[2]\n",
    "\n",
    "    model_prediction = model(x, slope, slope2, yintersect)\n",
    "    loglike = -0.5 * np.sum((model_prediction-observation)**2./err**2.)\n",
    "    #print(model_prediction, loglike)\n",
    "    return loglike\n",
    "    \n",
    "print(\"Hello World\")\n",
    "x = np.linspace(1,10,200)\n",
    "err = 10\n",
    "scatter = 0.1\n",
    "observation = make_data(x,2,0.5,3,scatter)\n",
    "\n",
    "fp_names = ['s1','s2','yint']\n",
    "\n",
    "pymultinest.run(loglike,\n",
    "                prior,\n",
    "                3,\n",
    "                outputfiles_basename = 'out_PMN/',\n",
    "                n_live_points = 400)\n",
    "json.dump(fp_names, open('out_PMN/params.json', 'w')) # save parameter names\n",
    "\n"
   ]
  },
  {
   "cell_type": "code",
   "execution_count": null,
   "metadata": {},
   "outputs": [],
   "source": []
  }
 ],
 "metadata": {
  "kernelspec": {
   "display_name": "base",
   "language": "python",
   "name": "python3"
  },
  "language_info": {
   "name": "python",
   "version": "3.7.6"
  },
  "orig_nbformat": 4
 },
 "nbformat": 4,
 "nbformat_minor": 2
}
